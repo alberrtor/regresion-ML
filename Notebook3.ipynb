{
 "cells": [
  {
   "cell_type": "code",
   "execution_count": 1,
   "id": "2ebd60d1-4e61-406f-bb70-1f3beba2ae45",
   "metadata": {},
   "outputs": [
    {
     "name": "stderr",
     "output_type": "stream",
     "text": [
      "2024/09/28 17:30:48 INFO mlflow.tracking.fluent: Experiment with name 'Proyecto_Prediccion_Precios_Casas' does not exist. Creating a new experiment.\n",
      "2024/09/28 17:30:51 WARNING mlflow.models.model: Model logged without a signature and input example. Please set `input_example` parameter when logging the model to auto infer the model signature.\n"
     ]
    },
    {
     "name": "stdout",
     "output_type": "stream",
     "text": [
      "Mean Squared Error: 70962120188.0286\n"
     ]
    }
   ],
   "source": [
    "# Importar bibliotecas necesarias\n",
    "import pandas as pd\n",
    "from sklearn.model_selection import train_test_split\n",
    "from sklearn.ensemble import RandomForestRegressor\n",
    "from sklearn.metrics import mean_squared_error\n",
    "import mlflow\n",
    "import mlflow.sklearn\n",
    "\n",
    "# Cargar el dataset procesado\n",
    "data = pd.read_csv('processed_house_data.csv')\n",
    "\n",
    "# Variables predictoras (X) y la variable objetivo (y)\n",
    "X = data.drop(columns=['price'])\n",
    "y = data['price']\n",
    "\n",
    "# Dividir los datos en entrenamiento y prueba\n",
    "X_train, X_test, y_train, y_test = train_test_split(X, y, test_size=0.2, random_state=42)\n",
    "\n",
    "# Configurar MLFlow\n",
    "mlflow.set_experiment('Proyecto_Prediccion_Precios_Casas')\n",
    "\n",
    "with mlflow.start_run():\n",
    "    # Entrenar el modelo (RandomForest en este caso)\n",
    "    rf_model = RandomForestRegressor(random_state=42)\n",
    "    rf_model.fit(X_train, y_train)\n",
    "\n",
    "    # Hacer predicciones\n",
    "    y_pred = rf_model.predict(X_test)\n",
    "\n",
    "    # Calcular el error cuadrático medio (MSE)\n",
    "    mse = mean_squared_error(y_test, y_pred)\n",
    "\n",
    "    # Registrar métricas en MLFlow\n",
    "    mlflow.log_metric('Mean Squared Error', mse)\n",
    "\n",
    "    # Registrar el modelo en MLFlow\n",
    "    mlflow.sklearn.log_model(rf_model, 'RandomForestRegressor_Model')\n",
    "\n",
    "    print(f\"Mean Squared Error: {mse:.4f}\")\n",
    "\n"
   ]
  },
  {
   "cell_type": "code",
   "execution_count": null,
   "id": "82526668-a2d9-4c87-a63b-d34567ca85d0",
   "metadata": {},
   "outputs": [],
   "source": []
  }
 ],
 "metadata": {
  "kernelspec": {
   "display_name": "Python 3 (ipykernel)",
   "language": "python",
   "name": "python3"
  },
  "language_info": {
   "codemirror_mode": {
    "name": "ipython",
    "version": 3
   },
   "file_extension": ".py",
   "mimetype": "text/x-python",
   "name": "python",
   "nbconvert_exporter": "python",
   "pygments_lexer": "ipython3",
   "version": "3.12.0"
  }
 },
 "nbformat": 4,
 "nbformat_minor": 5
}
